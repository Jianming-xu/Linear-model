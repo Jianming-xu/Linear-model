{
 "cells": [
  {
   "cell_type": "markdown",
   "metadata": {},
   "source": [
    "# Linear Regression"
   ]
  },
  {
   "cell_type": "markdown",
   "metadata": {},
   "source": [
    "##  原理"
   ]
  },
  {
   "cell_type": "code",
   "execution_count": 2,
   "metadata": {
    "ExecuteTime": {
     "end_time": "2020-11-08T02:09:20.672208Z",
     "start_time": "2020-11-08T02:09:20.667210Z"
    }
   },
   "outputs": [],
   "source": [
    "# y = wx + b"
   ]
  },
  {
   "cell_type": "markdown",
   "metadata": {},
   "source": [
    "### 如何求解参数？"
   ]
  },
  {
   "cell_type": "code",
   "execution_count": 3,
   "metadata": {
    "ExecuteTime": {
     "end_time": "2020-11-08T02:09:20.693197Z",
     "start_time": "2020-11-08T02:09:20.675206Z"
    }
   },
   "outputs": [],
   "source": [
    "# 损失函数（目标函数）:Loss function\n",
    "\n",
    "# 1.最小二乘法: Least square method\n",
    "# 2.梯度下降: Gradient descent"
   ]
  },
  {
   "cell_type": "markdown",
   "metadata": {},
   "source": [
    "## 梯度下降求解损失函数 "
   ]
  },
  {
   "cell_type": "markdown",
   "metadata": {
    "heading_collapsed": true
   },
   "source": [
    "### 建模 - 方案（一）"
   ]
  },
  {
   "cell_type": "code",
   "execution_count": 4,
   "metadata": {
    "ExecuteTime": {
     "end_time": "2020-11-08T02:09:21.662641Z",
     "start_time": "2020-11-08T02:09:20.697194Z"
    },
    "hidden": true
   },
   "outputs": [
    {
     "name": "stdout",
     "output_type": "stream",
     "text": [
      "cost: \t1.25e+02\n",
      "w: \t20.7\n",
      "b: \t4.09\n"
     ]
    },
    {
     "data": {
      "image/png": "[encoded data removed]",
      "text/plain": [
       "<Figure size 864x576 with 1 Axes>"
      ]
     },
     "metadata": {},
     "output_type": "display_data"
    },
    {
     "data": {
      "image/png": "[encoded data removed]",
      "text/plain": [
       "<Figure size 864x576 with 1 Axes>"
      ]
     },
     "metadata": {},
     "output_type": "display_data"
    }
   ],
   "source": [
    "import numpy as np\n",
    "np.set_printoptions(suppress=True)\n",
    "\n",
    "class LinerRegression(object):\n",
    "\n",
    "    def __init__(self, learning_rate=0.01, max_iter=100, seed=None):\n",
    "        np.random.seed(seed)\n",
    "        self.lr = learning_rate  # 设定学习率\n",
    "        self.max_iter = max_iter # \n",
    "        self.w = np.random.normal(1, 0.1)  # 参数先随机假定\n",
    "        self.b = np.random.normal(1, 0.1)  \n",
    "        self.loss_arr = []\n",
    "\n",
    "    def fit(self, x, y):\n",
    "        self.x = x  # 传入数组，此处为1darray\n",
    "        self.y = y  # \n",
    "        for i in range(self.max_iter):  # \n",
    "            self._train_step()\n",
    "            self.loss_arr.append(self.loss())\n",
    "#             print('loss: \\t{:.3}'.format(self.loss()))\n",
    "#             print('w: \\t{:.3}'.format(self.w))\n",
    "#             print('b: \\t{:.3}'.format(self.b))\n",
    "\n",
    "    def _f(self, x, w, b):\n",
    "        return x * w + b\n",
    "\n",
    "    def predict(self, x=None):\n",
    "        if x is None:\n",
    "            x = self.x\n",
    "        y_pred = self._f(x, self.w, self.b)\n",
    "        return y_pred\n",
    "\n",
    "    def loss(self, y_true=None, y_pred=None):\n",
    "        if y_true is None or y_pred is None:\n",
    "            y_true = self.y\n",
    "            y_pred = self.predict(self.x)\n",
    "        return np.mean((y_true - y_pred)**2)\n",
    "\n",
    "    def _calc_gradient(self):\n",
    "        d_w = np.mean((self.x * self.w + self.b - self.y) * self.x)\n",
    "        d_b = np.mean(self.x * self.w + self.b - self.y)\n",
    "        return d_w, d_b\n",
    "\n",
    "    def _train_step(self):\n",
    "        d_w, d_b = self._calc_gradient()\n",
    "        self.w = self.w - self.lr * d_w\n",
    "        self.b = self.b - self.lr * d_b\n",
    "        return self.w, self.b\n",
    "\n",
    "import numpy as np\n",
    "import matplotlib.pyplot as plt\n",
    "# from liner_regression import *\n",
    "\n",
    "def show_data(x, y, w=None, b=None):\n",
    "    plt.scatter(x, y, marker='.')\n",
    "    if w is not None and b is not None:\n",
    "        plt.plot(x, w*x+b, c='red')\n",
    "    plt.show()\n",
    "\n",
    "    \n",
    "# data generation\n",
    "np.random.seed(222)\n",
    "data_size = 100\n",
    "x = np.random.uniform(low=1.0, high=10.0, size=data_size)\n",
    "y = x * 20 + 10 + np.random.normal(loc=0.0, scale=10.0, size=data_size)\n",
    "# plt.scatter(x, y, marker='.')\n",
    "# plt.show()\n",
    "\n",
    "# train / test split\n",
    "shuffled_index = np.random.permutation(data_size)\n",
    "x = x[shuffled_index]\n",
    "y = y[shuffled_index]\n",
    "split_index = int(data_size * 0.7)\n",
    "x_train = x[:split_index]\n",
    "y_train = y[:split_index]\n",
    "x_test = x[split_index:]\n",
    "y_test = y[split_index:]\n",
    "\n",
    "# visualize data\n",
    "# plt.scatter(x_train, y_train, marker='.')\n",
    "# plt.show()\n",
    "# plt.scatter(x_test, y_test, marker='.')\n",
    "# plt.show()\n",
    "\n",
    "# train the liner regression model\n",
    "regr = LinerRegression(learning_rate=0.01, max_iter=10, seed=314)\n",
    "regr.fit(x_train, y_train)\n",
    "print('cost: \\t{:.3}'.format(regr.loss()))\n",
    "print('w: \\t{:.3}'.format(regr.w))\n",
    "print('b: \\t{:.3}'.format(regr.b))\n",
    "show_data(x, y, regr.w, regr.b)\n",
    "\n",
    "# plot the evolution of cost\n",
    "plt.scatter(np.arange(len(regr.loss_arr)), regr.loss_arr, marker='o', c='green')\n",
    "plt.show()"
   ]
  },
  {
   "cell_type": "markdown",
   "metadata": {},
   "source": [
    "### 建模 - 方案（二）"
   ]
  },
  {
   "cell_type": "code",
   "execution_count": null,
   "metadata": {
    "ExecuteTime": {
     "end_time": "2020-11-08T00:15:46.753598Z",
     "start_time": "2020-11-08T00:15:42.870831Z"
    }
   },
   "outputs": [],
   "source": []
  },
  {
   "cell_type": "code",
   "execution_count": 14,
   "metadata": {
    "ExecuteTime": {
     "end_time": "2020-11-08T02:16:33.601322Z",
     "start_time": "2020-11-08T02:16:33.447411Z"
    },
    "scrolled": true
   },
   "outputs": [],
   "source": [
    "import numpy as np\n",
    "import pandas as pd\n",
    "import scipy as sp\n",
    "import matplotlib\n",
    "import IPython\n",
    "import sklearn\n",
    "\n",
    "import matplotlib as mpl\n",
    "import matplotlib.pyplot as plt\n",
    "import matplotlib.pylab as pylab\n",
    "import seaborn as sns\n",
    "from pandas.plotting import scatter_matrix\n",
    "\n",
    "plt.style.use('ggplot')\n",
    "sns.set_style('white')\n",
    "pylab.rcParams['figure.figsize'] = 12, 8\n",
    "\n",
    "#忽略警号\n",
    "import warnings\n",
    "warnings.filterwarnings(\"ignore\")\n",
    "\n",
    "import random\n",
    "import time\n",
    "\n",
    "from sklearn import svm, tree, linear_model, neighbors, naive_bayes, ensemble, discriminant_analysis, gaussian_process\n",
    "from xgboost import XGBClassifier\n",
    "import xgboost\n",
    "from sklearn.preprocessing import OneHotEncoder, LabelEncoder, OrdinalEncoder\n",
    "from sklearn import feature_selection\n",
    "from sklearn import model_selection\n",
    "from sklearn import metrics\n",
    "\n",
    "class LinearRegression(object):\n",
    "    \"\"\"simple linear regression & multivariate linear regression\"\"\"\n",
    "    def __init__(self):\n",
    "        self.w = 0                  #斜率\n",
    "        self.b = 0                  #截距\n",
    "        self.sqrLoss = 0            #最小均方误差\n",
    "        self.trainSet = 0           #训练集特征\n",
    "        self.label = 0              #训练集标签\n",
    "        self.learning_rate = None   #学习率\n",
    "        self.n_iters = None         #实际迭代次数\n",
    "        self.lossList = []          #梯度下降每轮迭代的误差列表\n",
    "    \n",
    "    def train(self, X, y, method, learning_rate=0.1, n_iters=1000):\n",
    "        if X.ndim < 2:\n",
    "            raise ValueError(\"X must be 2D array-like!\")\n",
    "        self.trainSet = X\n",
    "        self.label = y\n",
    "        if method.lower() == \"formula\":\n",
    "            self.__train_formula()\n",
    "        elif method.lower() == \"matrix\":\n",
    "            self.__train_matrix()\n",
    "        elif method.lower() == \"gradient\":\n",
    "            self.__train_gradient(learning_rate, n_iters)\n",
    "        else:\n",
    "            raise ValueError(\"method value not found!\")\n",
    "        return\n",
    "\n",
    "    #公式求解法(仅适用于一元线性回归)\n",
    "    def __train_formula(self):\n",
    "        n_samples, n_features = self.trainSet.shape\n",
    "        X = self.trainSet.flatten()\n",
    "        y = self.label\n",
    "        Xmean = np.mean(X)\n",
    "        ymean = np.mean(y)\n",
    "        #求w\n",
    "        self.w = (np.dot(X, y) - n_samples*Xmean*ymean)/(np.power(X,2).sum() - n_samples*Xmean**2)\n",
    "        #求b\n",
    "        self.b = ymean - self.w*Xmean\n",
    "        #求误差\n",
    "        self.sqrLoss = np.power((y-np.dot(X,self.w) - self.b), 2).sum()\n",
    "        return\n",
    "\n",
    "    #矩阵求解法 - 其实还是公式求解法\n",
    "    def __train_matrix(self):\n",
    "        n_samples, n_features = self.trainSet.shape\n",
    "        X = self.trainSet\n",
    "        y = self.label\n",
    "        #合并w和b，在X尾部添加一列全是1的特征\n",
    "        X2 = np.hstack((X, np.ones((n_samples, 1))))\n",
    "        #求w和b\n",
    "        EX = np.linalg.inv(np.dot(X2.T,X2))\n",
    "        what = np.dot(np.dot(EX,X2.T),y)  # theta\n",
    "        self.w = what[:-1]\n",
    "        self.b = what[-1]\n",
    "        self.sqrLoss = np.power((y-np.dot(X2,what).flatten()), 2).sum()\n",
    "        return\n",
    "\n",
    "    #梯度下降法\n",
    "    def __train_gradient(self, learning_rate, n_iters, minloss=1.0e-6):\n",
    "        n_samples, n_features = self.trainSet.shape\n",
    "        X = self.trainSet\n",
    "        y = self.label\n",
    "        #初始化迭代次数为0，初始化w0，b0为1，初始化误差平方和以及迭代误差之差\n",
    "        n = 0\n",
    "        w = np.ones(n_features)\n",
    "        b = 1\n",
    "        sqrLoss0 = np.power((y-np.dot(X,w).flatten()-b), 2).sum()\n",
    "        self.lossList.append(sqrLoss0)\n",
    "        deltaLoss = np.inf\n",
    "        while (n<n_iters) and (sqrLoss0>minloss) and (abs(deltaLoss)>minloss):\n",
    "            #求w和b的梯度\n",
    "            ypredict = np.dot(X, w) + b\n",
    "            gradient_w = -1.*np.dot((y - ypredict), X)/n_samples\n",
    "            gradient_b = -1.*sum(y - ypredict)/n_samples\n",
    "            #更新w和b\n",
    "            w = w - learning_rate * gradient_w\n",
    "            b = b - learning_rate * gradient_b\n",
    "            #求更新后的误差和更新前后的误差之差\n",
    "            sqrLoss1 = np.power((y-np.dot(X,w).flatten()-b), 2).sum()\n",
    "            deltaLoss = sqrLoss0 - sqrLoss1\n",
    "            sqrLoss0 = sqrLoss1\n",
    "            self.lossList.append(sqrLoss0)\n",
    "            n += 1\n",
    "        print(\"第{}次迭代，损失平方和为{}，损失前后差为{}\".format(n, sqrLoss0, deltaLoss))\n",
    "        self.w = w\n",
    "        self.b = b\n",
    "        self.sqrLoss = sqrLoss0\n",
    "        self.learning_rate = learning_rate\n",
    "        self.n_iters = n+1\n",
    "        return\n",
    "\n",
    "def simpleLR(w, b, size=100):\n",
    "    X = np.expand_dims(np.linspace(-10, 10, size), axis=1)\n",
    "    y = X.flatten()*w + b + (np.random.random(size)-1)*3\n",
    "    #公式法求解\n",
    "    lr1 = LinearRegression()\n",
    "    lr1.train(X, y, method='formula')\n",
    "    print(\"【formula方法】\\nw:{}, b:{}, square loss:{}\".format(lr1.w, lr1.b, lr1.sqrLoss))\n",
    "    #矩阵法求解\n",
    "    lr2 = LinearRegression()\n",
    "    lr2.train(X, y, method='Matrix')\n",
    "    print(\"【matrix方法】\\nw:{}, b:{}, square loss:{}\".format(lr2.w, lr2.b, lr2.sqrLoss))\n",
    "    #画图\n",
    "    fig = plt.figure()\n",
    "    ax = fig.add_subplot(1,1,1)\n",
    "    ax.scatter(X, y)\n",
    "    ax.plot(X, X*lr2.w+lr2.b, color='r', linewidth=3)\n",
    "    plt.show()\n",
    "    return\n",
    "\n",
    "def multivariateLR():\n",
    "    from sklearn.datasets import load_boston\n",
    "    X, y = load_boston(True)\n",
    "    #将特征X标准化，方便收敛\n",
    "    X = (X - X.mean(axis=0))/X.std(axis=0)\n",
    "    #矩阵法求解\n",
    "    lr1 = LinearRegression()\n",
    "    lr1.train(X, y, method='Matrix')\n",
    "    print(\"【formula方法】\\nw:{}, b:{}, square loss:{}\".format(lr1.w, lr1.b, lr1.sqrLoss))\n",
    "    #梯度下降法求解\n",
    "    lr2 = LinearRegression()\n",
    "    lr2.train(X, y, method='Gradient', learning_rate=0.1, n_iters=5000)\n",
    "    print(\"【matrix方法】\\nw:{}, b:{}, square loss:{}\".format(lr2.w, lr2.b, lr2.sqrLoss))\n",
    "    #画梯度下降的误差下降图\n",
    "    fig = plt.figure()\n",
    "    ax = fig.add_subplot(1,1,1)\n",
    "    ax.plot(range(lr2.n_iters), lr2.lossList, linewidth=3)\n",
    "    ax.set_title(\"Square Loss\")\n",
    "    plt.show()\n",
    "    return\n",
    "\n",
    "def sklearn_linear_model():\n",
    "    from sklearn.datasets import load_boston\n",
    "    x_array, y_array = load_boston(True)\n",
    "    x = pd.DataFrame(x_array, columns=load_boston()['feature_names'])\n",
    "    y = pd.DataFrame(y_array, columns=['Target'])\n",
    "    xy = x.copy(deep=True)\n",
    "    xy['Target'] = y\n",
    "    \n",
    "    from sklearn.preprocessing import StandardScaler\n",
    "    scaler = StandardScaler().fit(x_array)\n",
    "    x_scaled = scaler.transform(x_array)\n",
    "    x = pd.DataFrame(x_scaled, columns=load_boston()['feature_names'])\n",
    "    \n",
    "    xy.to_csv('housing.csv', sep = ',', encoding='UTF-8', index=0)\n",
    "    \n",
    "    \n",
    "    x_train,x_test,y_train,y_test = model_selection.train_test_split(x, y)\n",
    "    \n",
    "    MLA = [\n",
    "        ensemble.AdaBoostRegressor(),\n",
    "        ensemble.BaggingRegressor(),\n",
    "        ensemble.RandomForestRegressor(),\n",
    "        gaussian_process.GaussianProcessRegressor(),\n",
    "#         linear_model.LogisticRegressionCV(),  # 要求输出离散结果\n",
    "        linear_model.ElasticNet(),\n",
    "        linear_model.RidgeCV(),\n",
    "        svm.SVR(),\n",
    "        tree.DecisionTreeRegressor(),\n",
    "        xgboost.XGBRegressor()\n",
    "    ]\n",
    "    \n",
    "    cv_split = model_selection.ShuffleSplit(n_splits=10,test_size=.3,train_size=.6,)\n",
    "    MLA_compare = pd.DataFrame()\n",
    "    \n",
    "    \n",
    "    MLA_pred = pd.DataFrame(y_test)\n",
    "    \n",
    "    for i, alg in enumerate(MLA):\n",
    "        \n",
    "#         print(alg.__class__.__name__)\n",
    "        MLA_name = alg.__class__.__name__\n",
    "        MLA_compare.loc[i, 'MLA Name'] = MLA_name\n",
    "        \n",
    "        cv_results = model_selection.cross_validate(alg, x_train, y_train, cv=cv_split)\n",
    "        \n",
    "        MLA_compare.loc[i, 'MLA Score'] = cv_results['test_score'].mean()\n",
    "        \n",
    "        alg.fit(x_train, y_train)\n",
    "        MLA_pred[MLA_name] = alg.predict(x_test)\n",
    "        MLA_compare.loc[i, 'R2 Score'] = metrics.r2_score(MLA_pred['Target'], MLA_pred[MLA_name])\n",
    "        MLA_compare.loc[i, 'MSE'] = metrics.mean_squared_error(MLA_pred['Target'], MLA_pred[MLA_name])\n",
    "        MLA_compare.loc[i, 'MAE'] = metrics.mean_absolute_error(MLA_pred['Target'], MLA_pred[MLA_name])\n",
    "        \n",
    "    MLA_compare.sort_values(by = ['R2 Score'], ascending = False, inplace = True)\n",
    "    print(MLA_compare)  \n",
    "\n",
    "    return\n",
    "\n",
    "\n",
    "\n",
    "if __name__ == \"__main__\":\n",
    "    #1、先用公式法和矩阵法测试下一元线性回归\n",
    "#     simpleLR(1.34, 2.08)\n",
    "    #2、再用矩阵法和梯度下降法测试下多元线性回归\n",
    "#     multivariateLR()\n",
    "    \n",
    "    # 下面调用sklearn的库，以波士顿房价为例\n",
    "    # 比较后认为具有竞争力的模型有随机森林和XGB两种回归模型，将新建文件深入研究\n",
    "    sklearn_linear_model()\n",
    "\n"
   ]
  }
 ],
 "metadata": {
  "kernelspec": {
   "display_name": "Python 3",
   "language": "python",
   "name": "python3"
  },
  "language_info": {
   "codemirror_mode": {
    "name": "ipython",
    "version": 3
   },
   "file_extension": ".py",
   "mimetype": "text/x-python",
   "name": "python",
   "nbconvert_exporter": "python",
   "pygments_lexer": "ipython3",
   "version": "3.8.3"
  },
  "varInspector": {
   "cols": {
    "lenName": 16,
    "lenType": 16,
    "lenVar": 40
   },
   "kernels_config": {
    "python": {
     "delete_cmd_postfix": "",
     "delete_cmd_prefix": "del ",
     "library": "var_list.py",
     "varRefreshCmd": "print(var_dic_list())"
    },
    "r": {
     "delete_cmd_postfix": ") ",
     "delete_cmd_prefix": "rm(",
     "library": "var_list.r",
     "varRefreshCmd": "cat(var_dic_list()) "
    }
   },
   "types_to_exclude": [
    "module",
    "function",
    "builtin_function_or_method",
    "instance",
    "_Feature"
   ],
   "window_display": false
  }
 },
 "nbformat": 4,
 "nbformat_minor": 4
}
